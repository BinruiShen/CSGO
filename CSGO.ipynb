{
 "cells": [
  {
   "cell_type": "code",
   "execution_count": 1,
   "id": "052eed31",
   "metadata": {
    "ExecuteTime": {
     "end_time": "2024-10-07T03:37:35.638794Z",
     "start_time": "2024-10-07T03:37:30.445552Z"
    }
   },
   "outputs": [],
   "source": [
    "import time\n",
    "import networkx\n",
    "import numpy as np\n",
    "import scipy\n",
    "from scipy.optimize import linear_sum_assignment\n",
    "from scipy.spatial import Delaunay\n",
    "from scipy.sparse import csr_matrix"
   ]
  },
  {
   "cell_type": "code",
   "execution_count": 2,
   "id": "2fe0f287",
   "metadata": {
    "ExecuteTime": {
     "end_time": "2024-10-07T03:37:37.031184Z",
     "start_time": "2024-10-07T03:37:37.015200Z"
    }
   },
   "outputs": [],
   "source": [
    "###################################\n",
    "########    Step size      ########\n",
    "###################################\n",
    "\n",
    "def tr_dot(a, b):\n",
    "\n",
    "    # 快速计算 np.trace(a*b)\n",
    "\n",
    "    trace = np.sum(np.multiply(a, b.T))  # 点乘\n",
    "    # trace=np.sum(inner1d(a, b.T))#内积\n",
    "    # trace=np.einsum('ij,ji->', a, b)\n",
    "    return trace\n",
    "\n",
    "def compute_alpha(M, delta_f, D, adjacency1, adjacency2, K, lamb):\n",
    "    tr_matrix1 = tr_dot(M.T, delta_f)\n",
    "    tr_matrix2 = tr_dot(delta_f, D.T)\n",
    "    tr_matrix3 = tr_matrix2\n",
    "    tr_matrix4 = tr_dot(D.T * adjacency1, D * adjacency2)\n",
    "    if np.max(K) == 0:\n",
    "        tr_matrix5 = 0\n",
    "        tr_matrix6 = 0\n",
    "    else:\n",
    "\n",
    "        tr_matrix5 = tr_dot(D.T, K)\n",
    "        tr_matrix6 = tr_dot(M.T, K)\n",
    "\n",
    "    tr_matrix1m2m3 = tr_matrix1 - tr_matrix2 - tr_matrix3\n",
    "    alpha_a = tr_matrix1m2m3 + tr_matrix4\n",
    "    alpha_b = -tr_matrix1m2m3 - tr_matrix1 + lamb * tr_matrix5 - lamb * tr_matrix6\n",
    "    if alpha_b==0:\n",
    "        alpha_op=1\n",
    "    else:\n",
    "        alpha_op = -alpha_b / (2 * alpha_a)\n",
    "        \n",
    "    return alpha_op"
   ]
  },
  {
   "cell_type": "code",
   "execution_count": 49,
   "id": "9ac1671f",
   "metadata": {
    "ExecuteTime": {
     "end_time": "2024-10-07T04:14:55.460725Z",
     "start_time": "2024-10-07T04:14:55.431803Z"
    }
   },
   "outputs": [],
   "source": [
    "###################################\n",
    "########    CSGO module     #######\n",
    "###################################\n",
    "\n",
    "def sinkhorn_vec(M, num_iters=1000,tol=0.05):\n",
    "    \n",
    "    M = np.array(M)\n",
    "    n, m = M.shape\n",
    "\n",
    "    # Initialize the scaling factors u and v\n",
    "    u, v = np.ones(n), np.ones(m)\n",
    "    r, c = np.ones(n), np.ones(m)\n",
    "    \n",
    "    matrix_old = M\n",
    "    # Run Sinkhorn iterations\n",
    "    for i in range(num_iters):\n",
    "        u_new = 1 / np.matmul(M, v)  #Sum of row \n",
    "        v_new = 1 / np.matmul(M.T, u_new) #Sum of clo\n",
    "\n",
    "        if i % 20 ==1: # Stopping test\n",
    "            res_diff =  np.linalg.norm(u_new/max(u_new) - u/max(u), 1) \n",
    "            + np.linalg.norm(v_new/max(v_new) - v/max(v), 1)\n",
    "            if res_diff<tol:\n",
    "                print('sinkhorn converges at : '+ str(i))\n",
    "                u, v = u_new, v_new\n",
    "                break\n",
    "\n",
    "        u, v = u_new, v_new \n",
    "\n",
    "    # Compute the optimal transport plan P\n",
    "    scale_matrix = np.outer(u_new,v_new)\n",
    "    P_eps = np.multiply(scale_matrix, M)\n",
    "    \n",
    "    P_eps = np.mat(P_eps)\n",
    "    return P_eps\n",
    "\n",
    "\n",
    "def scal_softassign(M, gamma=1, num_iter=1000,tole=0.001, stable=0):\n",
    "\n",
    "    # Exponentiate the cost matrix M to create K\n",
    "    n, m = M.shape\n",
    "    M = M/ M.max()\n",
    "    if stable: M= M -1\n",
    "    beta = np.log((n + m) / 2) * gamma   #\n",
    "    K = np.exp(M * beta)\n",
    "    \n",
    "    P_eps = sinkhorn_vec(K, num_iters=num_iter,tol=tole)\n",
    "\n",
    "    return P_eps\n",
    "\n",
    "\n",
    "def hugarian(matrix):\n",
    "    n, m = matrix.shape\n",
    "    P = np.mat(np.zeros((n, m)))\n",
    "    row_ind, col_ind = linear_sum_assignment(-matrix)\n",
    "    P[row_ind, col_ind] = 1\n",
    "    return P\n",
    "\n",
    "\n",
    "def graphmatch_CSGO(\n",
    "    adjacency1, adjacency2, K=0, erro=0.1, a=1, lamb=1, gamma=10, adaptive=0,tole=1e-2,num_iter=1000,stable=0\n",
    "):\n",
    "    print(\"##################### CSGO #############################\")\n",
    "    starttime = time.perf_counter()\n",
    "\n",
    "    n, _ = adjacency1.shape\n",
    "    m, _ = adjacency2.shape\n",
    "    big_nm = max(n, m)\n",
    "    X = np.mat(np.ones((n, m))) / (n * m)\n",
    "    Y = np.mat(np.zeros((big_nm, big_nm)))\n",
    "    adj1 = csr_matrix(adjacency1)\n",
    "    adj2 = csr_matrix(adjacency2)\n",
    "\n",
    "    gtime = 0\n",
    "    for i in range(60):\n",
    "        x = X\n",
    "        if i==0:\n",
    "            degree_adjacency1 = np.sum(adjacency1,axis=1)\n",
    "            degree_adjacency2 = np.sum(adjacency2,axis=1)\n",
    "            delta_edge = np.mat(np.outer(degree_adjacency1, degree_adjacency2))/ (n * m)\n",
    "        else:\n",
    "            start_time = time.time()\n",
    "            delta_edge = adj1@X@adj2\n",
    "            end_time = time.time()\n",
    "            gtime = gtime+(end_time-start_time)\n",
    "        Y[0:n, 0:m] = delta_edge + lamb * K\n",
    "        Y = scal_softassign(Y, gamma, num_iter, tole,stable=stable)\n",
    "\n",
    "        M = x\n",
    "        D = Y[0:n, 0:m]\n",
    "\n",
    "        if adaptive:\n",
    "            alpha_op = compute_alpha(M, delta_edge, D, adjacency1, adjacency2, K, lamb)\n",
    "        else:\n",
    "            alpha_op = 1\n",
    "\n",
    "        if alpha_op >= 0 and alpha_op < 1:\n",
    "            X = (1 - alpha_op) * X + alpha_op * Y[0:n, 0:m]\n",
    "            print(\"alpha is\" + str(alpha_op))\n",
    "        else:\n",
    "            X = (1 - a) * X + a * Y[0:n, 0:m]\n",
    "\n",
    "        err = abs(x / x.max() - X / X.max()).max()\n",
    "        print(i, err)\n",
    "        nIteration = i + 1\n",
    "        if err < erro:\n",
    "            print(\"converge\")\n",
    "            break\n",
    "    P = hugarian(X)\n",
    "    endtime = time.perf_counter()\n",
    "    runtime = endtime - starttime\n",
    "    print(gtime)\n",
    "    return P, runtime, nIteration"
   ]
  },
  {
   "cell_type": "code",
   "execution_count": 41,
   "id": "9cd12f1b",
   "metadata": {
    "ExecuteTime": {
     "end_time": "2024-10-07T04:10:26.624575Z",
     "start_time": "2024-10-07T04:10:26.601934Z"
    }
   },
   "outputs": [],
   "source": [
    "def graphmatch_CSGO_ini_spa(\n",
    "    adjacency1, adjacency2, K=0, erro=0.1, a=1, lamb=1, gamma=10, adaptive=0,tole=0.01,num_iter=1000,stable=0\n",
    "):\n",
    "    print(\"##################### CSGO #############################\")\n",
    "    starttime = time.perf_counter()\n",
    "\n",
    "    n, _ = adjacency1.shape\n",
    "    m, _ = adjacency2.shape\n",
    "    big_nm = max(n, m)\n",
    "    X = np.mat(np.ones((n, m))) / (n * m)\n",
    "    Y = np.mat(np.zeros((big_nm, big_nm)))\n",
    "    adj1 = csr_matrix(adjacency1)\n",
    "    adj2 = csr_matrix(adjacency2)\n",
    "\n",
    "    gtime = 0\n",
    "    for i in range(60):\n",
    "        x = X\n",
    "        if i==0:\n",
    "            degree_adjacency1 = np.sum(adjacency1,axis=1)\n",
    "            degree_adjacency2 = np.sum(adjacency2,axis=1)\n",
    "            delta_edge = np.mat(np.outer(degree_adjacency1, degree_adjacency2))/ (n * m)\n",
    "        else:\n",
    "            start_time = time.time()\n",
    "            delta_edge = adj1@X@adj2\n",
    "            end_time = time.time()\n",
    "            gtime = gtime+(end_time-start_time)\n",
    "        Y[0:n, 0:m] = delta_edge + lamb * K\n",
    "        Y = scal_softassign(Y, gamma, num_iter, tole,stable=stable)\n",
    "\n",
    "        M = x\n",
    "        D = Y[0:n, 0:m]\n",
    "\n",
    "        if adaptive:\n",
    "            alpha_op = compute_alpha(M, delta_edge, D, adjacency1, adjacency2, K, lamb)\n",
    "        else:\n",
    "            alpha_op = 1\n",
    "\n",
    "        if alpha_op >= 0 and alpha_op < 1:\n",
    "            X = (1 - alpha_op) * X + alpha_op * Y[0:n, 0:m]\n",
    "            print(\"alpha is\" + str(alpha_op))\n",
    "        else:\n",
    "            X = (1 - a) * X + a * Y[0:n, 0:m]\n",
    "\n",
    "        err = abs(x / x.max() - X / X.max()).max()\n",
    "        print(i, err)\n",
    "        nIteration = i + 1\n",
    "        if err < erro:\n",
    "            print(\"converge\")\n",
    "            break\n",
    "    P = hugarian(X)\n",
    "    endtime = time.perf_counter()\n",
    "    runtime = endtime - starttime\n",
    "    print(gtime)\n",
    "    return P, runtime, nIteration"
   ]
  },
  {
   "cell_type": "markdown",
   "id": "7a8fb06d",
   "metadata": {},
   "source": [
    "# Experiment： PPI"
   ]
  },
  {
   "cell_type": "code",
   "execution_count": 30,
   "id": "5de72013",
   "metadata": {
    "ExecuteTime": {
     "end_time": "2024-10-07T04:05:39.447823Z",
     "start_time": "2024-10-07T04:05:39.250353Z"
    }
   },
   "outputs": [],
   "source": [
    "sorce_graph = networkx.read_leda(\"PPI/synthetic_nets_known_node_mapping/0Krogan_2007_high.gw\")\n",
    "nosiy5_graph = networkx.read_leda(\"PPI/synthetic_nets_known_node_mapping/low_confidence/0Krogan_2007_high+5e.gw\")\n",
    "nosiy15_graph = networkx.read_leda(\"PPI/synthetic_nets_known_node_mapping/low_confidence/0Krogan_2007_high+15e.gw\")\n",
    "nosiy25_graph = networkx.read_leda(\"PPI/synthetic_nets_known_node_mapping/low_confidence/0Krogan_2007_high+25e.gw\")\n",
    "\n",
    "adj_sorce = networkx.to_numpy_matrix(sorce_graph)\n",
    "adj_noisy5 = networkx.to_numpy_matrix(nosiy5_graph)\n",
    "adj_noisy15 = networkx.to_numpy_matrix(nosiy15_graph)\n",
    "adj_noisy25 = networkx.to_numpy_matrix(nosiy25_graph)\n",
    "nodes =1004"
   ]
  },
  {
   "cell_type": "code",
   "execution_count": 54,
   "id": "87aaa3fc",
   "metadata": {
    "ExecuteTime": {
     "end_time": "2024-10-07T04:16:16.684602Z",
     "start_time": "2024-10-07T04:16:11.723876Z"
    },
    "scrolled": true
   },
   "outputs": [
    {
     "name": "stdout",
     "output_type": "stream",
     "text": [
      "##################### CSGO #############################\n",
      "sinkhorn converges at : 141\n",
      "0 1.0\n",
      "sinkhorn converges at : 341\n",
      "1 0.9781336989094666\n",
      "sinkhorn converges at : 281\n",
      "2 0.957331826518079\n",
      "sinkhorn converges at : 201\n",
      "3 0.9327478527017503\n",
      "sinkhorn converges at : 221\n",
      "4 0.6944889077070697\n",
      "sinkhorn converges at : 201\n",
      "5 0.7214800467719892\n",
      "sinkhorn converges at : 201\n",
      "6 0.7413081843559142\n",
      "sinkhorn converges at : 181\n",
      "7 0.728613095677342\n",
      "sinkhorn converges at : 181\n",
      "8 0.8762599600901462\n",
      "sinkhorn converges at : 161\n",
      "9 0.40193905145778996\n",
      "sinkhorn converges at : 141\n",
      "10 0.4294822123350936\n",
      "sinkhorn converges at : 141\n",
      "11 0.3399825231085223\n",
      "sinkhorn converges at : 141\n",
      "12 0.38699933408383846\n",
      "sinkhorn converges at : 141\n",
      "13 0.37064844959211013\n",
      "sinkhorn converges at : 141\n",
      "14 0.27484666434279503\n",
      "sinkhorn converges at : 141\n",
      "15 0.2892829987667736\n",
      "sinkhorn converges at : 141\n",
      "16 0.2690971484543248\n",
      "sinkhorn converges at : 141\n",
      "17 0.19946762437063104\n",
      "sinkhorn converges at : 141\n",
      "18 0.2208253265223693\n",
      "sinkhorn converges at : 141\n",
      "19 0.22932577072427643\n",
      "sinkhorn converges at : 141\n",
      "20 0.2428374934903743\n",
      "sinkhorn converges at : 141\n",
      "21 0.2098827241695756\n",
      "sinkhorn converges at : 141\n",
      "22 0.12378181145560146\n",
      "sinkhorn converges at : 141\n",
      "23 0.11661224475001986\n",
      "sinkhorn converges at : 141\n",
      "24 0.06382278814058279\n",
      "converge\n",
      "0.8078384399414062\n",
      "Run time: 4.94sec\n",
      "Node acc: 91.33%\n"
     ]
    }
   ],
   "source": [
    "M, runtime, iter_num  = graphmatch_CSGO(adj_sorce, adj_noisy5,gamma =60,stable=1)\n",
    "print(\"Run time: \"+str(np.round(runtime,2))+\"sec\")\n",
    "print(\"Node acc: \"+str(np.round((sum(np.diag(M))/nodes)*100,2))+\"%\") "
   ]
  },
  {
   "cell_type": "markdown",
   "id": "5da6522d",
   "metadata": {},
   "source": [
    "# Experiment: Facebook"
   ]
  },
  {
   "cell_type": "code",
   "execution_count": 21,
   "id": "09d79d5e",
   "metadata": {
    "ExecuteTime": {
     "end_time": "2024-10-07T03:53:12.859674Z",
     "start_time": "2024-10-07T03:53:11.797516Z"
    }
   },
   "outputs": [],
   "source": [
    "G_face = networkx.read_gpickle(\"facebook/G_face.gpickle\")  \n",
    "G_face_noise_5 = networkx.read_gpickle(\"facebook/G_face_noise_5.gpickle\")\n",
    "G_face_noise_15 = networkx.read_gpickle(\"facebook/G_face_noise_15.gpickle\")\n",
    "G_face_noise_25 = networkx.read_gpickle(\"facebook/G_face_noise_25.gpickle\")\n",
    "\n",
    "adj = networkx.to_numpy_matrix(G_face)\n",
    "adj_5 = networkx.to_numpy_matrix(G_face_noise_5)\n",
    "adj_15 = networkx.to_numpy_matrix(G_face_noise_15)\n",
    "adj_25 = networkx.to_numpy_matrix(G_face_noise_25)"
   ]
  },
  {
   "cell_type": "code",
   "execution_count": 56,
   "id": "7a44c715",
   "metadata": {
    "ExecuteTime": {
     "end_time": "2024-10-07T04:19:55.014009Z",
     "start_time": "2024-10-07T04:18:22.242228Z"
    }
   },
   "outputs": [
    {
     "name": "stdout",
     "output_type": "stream",
     "text": [
      "##################### CSGO #############################\n",
      "sinkhorn converges at : 81\n",
      "0 1.0\n",
      "sinkhorn converges at : 241\n",
      "1 1.0\n",
      "sinkhorn converges at : 521\n",
      "2 0.9646127685671819\n",
      "sinkhorn converges at : 421\n",
      "3 0.99999999999956\n",
      "sinkhorn converges at : 401\n",
      "4 0.8310143232104267\n",
      "sinkhorn converges at : 221\n",
      "5 0.9403287074676424\n",
      "sinkhorn converges at : 161\n",
      "6 0.6792245184042067\n",
      "sinkhorn converges at : 181\n",
      "7 0.6736730313369764\n",
      "sinkhorn converges at : 201\n",
      "8 0.6830258658317601\n",
      "sinkhorn converges at : 181\n",
      "9 0.7265261608056721\n",
      "sinkhorn converges at : 201\n",
      "10 0.6511333123978195\n",
      "sinkhorn converges at : 201\n",
      "11 0.718812615334375\n",
      "sinkhorn converges at : 201\n",
      "12 0.5528168284387799\n",
      "sinkhorn converges at : 201\n",
      "13 0.46006279748494205\n",
      "sinkhorn converges at : 201\n",
      "14 0.39485714790118986\n",
      "sinkhorn converges at : 201\n",
      "15 0.1912511440317397\n",
      "sinkhorn converges at : 201\n",
      "16 0.13255559371816766\n",
      "sinkhorn converges at : 201\n",
      "17 0.08954825598399407\n",
      "converge\n",
      "23.68960928916931\n",
      "Run time: 92.71sec\n",
      "Node acc: 86.26%\n"
     ]
    }
   ],
   "source": [
    "nodes=4039\n",
    "M, runtime, nIter =graphmatch_CSGO(adj, adj_25, adaptive=0,gamma =60,stable=1)\n",
    "print(\"Run time: \"+str(np.round(runtime,2))+\"sec\")\n",
    "print(\"Node acc: \"+str(np.round((sum(np.diag(M))/nodes)*100,2))+\"%\") "
   ]
  },
  {
   "cell_type": "code",
   "execution_count": null,
   "id": "831def2d",
   "metadata": {},
   "outputs": [],
   "source": []
  },
  {
   "cell_type": "code",
   "execution_count": null,
   "id": "47f25043",
   "metadata": {},
   "outputs": [],
   "source": []
  }
 ],
 "metadata": {
  "kernelspec": {
   "display_name": "Python 3 (ipykernel)",
   "language": "python",
   "name": "python3"
  },
  "language_info": {
   "codemirror_mode": {
    "name": "ipython",
    "version": 3
   },
   "file_extension": ".py",
   "mimetype": "text/x-python",
   "name": "python",
   "nbconvert_exporter": "python",
   "pygments_lexer": "ipython3",
   "version": "3.9.16"
  },
  "toc": {
   "base_numbering": 1,
   "nav_menu": {},
   "number_sections": true,
   "sideBar": true,
   "skip_h1_title": false,
   "title_cell": "Table of Contents",
   "title_sidebar": "Contents",
   "toc_cell": false,
   "toc_position": {},
   "toc_section_display": true,
   "toc_window_display": false
  },
  "varInspector": {
   "cols": {
    "lenName": 16,
    "lenType": 16,
    "lenVar": 40
   },
   "kernels_config": {
    "python": {
     "delete_cmd_postfix": "",
     "delete_cmd_prefix": "del ",
     "library": "var_list.py",
     "varRefreshCmd": "print(var_dic_list())"
    },
    "r": {
     "delete_cmd_postfix": ") ",
     "delete_cmd_prefix": "rm(",
     "library": "var_list.r",
     "varRefreshCmd": "cat(var_dic_list()) "
    }
   },
   "types_to_exclude": [
    "module",
    "function",
    "builtin_function_or_method",
    "instance",
    "_Feature"
   ],
   "window_display": false
  }
 },
 "nbformat": 4,
 "nbformat_minor": 5
}
